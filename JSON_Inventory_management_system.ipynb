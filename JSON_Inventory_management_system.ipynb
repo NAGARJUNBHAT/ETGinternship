{
  "nbformat": 4,
  "nbformat_minor": 0,
  "metadata": {
    "colab": {
      "name": "JSON_Inventory_management_system.ipynb",
      "provenance": [],
      "collapsed_sections": []
    },
    "kernelspec": {
      "name": "python3",
      "display_name": "Python 3"
    },
    "language_info": {
      "name": "python"
    }
  },
  "cells": [
    {
      "cell_type": "code",
      "metadata": {
        "id": "XXzaO1cq-5Hm"
      },
      "source": [
        "import pandas as pd\n",
        "import json"
      ],
      "execution_count": null,
      "outputs": []
    },
    {
      "cell_type": "code",
      "metadata": {
        "id": "ycrJIXwnE9Xe"
      },
      "source": [
        "fd = open(\"record.json\",\"r\")\n",
        "r = fd.read()\n",
        "fd.close()\n",
        "record = json.loads(r)"
      ],
      "execution_count": null,
      "outputs": []
    },
    {
      "cell_type": "code",
      "metadata": {
        "colab": {
          "base_uri": "https://localhost:8080/"
        },
        "id": "KSMZfYBpFYle",
        "outputId": "ae6c9795-07f7-4222-dd0a-47a26b61f413"
      },
      "source": [
        "record"
      ],
      "execution_count": null,
      "outputs": [
        {
          "output_type": "execute_result",
          "data": {
            "text/plain": [
              "{'1001': {'name': 'Sugar', 'price': 100, 'quantity': 34},\n",
              " '1002': {'name': 'Teapowder', 'price': 800, 'quantity': 100},\n",
              " '1003': {'name': 'Dal', 'price': 85, 'quantity': 100},\n",
              " '1004': {'name': 'Moog', 'price': 5, 'quantity': 1000},\n",
              " '1005': {'name': 'wheat', 'price': 20, 'quantity': 100},\n",
              " '1006': {'name': 'paddy', 'price': 50000, 'quantity': 10},\n",
              " '1007': {'name': 'Jowar', 'price': 1500, 'quantity': 110},\n",
              " '1008': {'name': 'Agarbatti', 'price': 599, 'quantity': 5},\n",
              " '1009': {'name': 'Rin soap', 'price': 18, 'quantity': 10},\n",
              " '1010': {'name': 'Powder', 'price': 133, 'quantity': 9},\n",
              " '1011': {'name': 'Pickle', 'price': 189, 'quantity': 7},\n",
              " '1012': {'name': 'Brush', 'price': 139, 'quantity': 22},\n",
              " '1013': {'name': 'Flour', 'price': 1923, 'quantity': 120},\n",
              " '1014': {'name': 'Santoor soap', 'price': 18, 'quantity': 110},\n",
              " '1015': {'name': 'Dettol soap', 'price': 169, 'quantity': 130},\n",
              " '1016': {'name': 'Neem soap', 'price': 189, 'quantity': 120},\n",
              " '1017': {'name': 'Green dal soap', 'price': 199, 'quantity': 1},\n",
              " '1018': {'name': 'Chilli powder', 'price': 10, 'quantity': 1},\n",
              " '1019': {'name': 'Lays', 'price': 88, 'quantity': 8},\n",
              " '1020': {'name': 'Kurkure', 'price': 889, 'quantity': 90},\n",
              " '1021': {'name': 'Shampoo', 'price': 1799, 'quantity': 99},\n",
              " '1022': {'name': 'Conditioner', 'price': 1679, 'quantity': 10},\n",
              " '1023': {'name': 'Lemon rice powder', 'price': 1779, 'quantity': 9},\n",
              " '1024': {'name': 'Biscuits', 'price': 1999, 'quantity': 33},\n",
              " '1025': {'name': 'Cashew nut', 'price': 134, 'quantity': 5},\n",
              " '1026': {'name': 'Badam', 'price': 132, 'quantity': 3},\n",
              " '1027': {'name': 'Pista', 'price': 134, 'quantity': 9},\n",
              " '1028': {'name': 'Pasta', 'price': 198, 'quantity': 3},\n",
              " '1029': {'name': 'Soft drinks', 'price': 197, 'quantity': 3},\n",
              " '1030': {'name': 'Chocolate pack', 'price': 199, 'quantity': 1},\n",
              " '1031': {'name': 'Milkybar', 'price': 10, 'quantity': 100},\n",
              " '1032': {'name': '5-star', 'price': 5, 'quantity': 10}}"
            ]
          },
          "metadata": {},
          "execution_count": 6
        }
      ]
    },
    {
      "cell_type": "code",
      "metadata": {
        "colab": {
          "base_uri": "https://localhost:8080/"
        },
        "id": "6vDUbw3PFbnW",
        "outputId": "ff4e37f5-11b1-418d-a56a-7581cb3629f2"
      },
      "source": [
        "# Entering the product\n",
        "product_id = int(input(\"Enter Product id: \"))\n",
        "name = input(\"Enter Product name: \")\n",
        "price = int(input(\"Enter Product price: \"))\n",
        "quantity = int(input(\"Enter Product quantity: \"))\n",
        "\n",
        "record[product_id] = { 'name': name, 'price': price, 'quantity': quantity }\n",
        "\n",
        "rs = json.dumps(record)\n",
        "\n",
        "fd = open(\"record.json\", \"w\")\n",
        "fd.write(rs)\n",
        "fd.close()"
      ],
      "execution_count": null,
      "outputs": [
        {
          "name": "stdout",
          "output_type": "stream",
          "text": [
            "Enter Product id: 1033\n",
            "Enter Product name: Glucose\n",
            "Enter Product price: 30\n",
            "Enter Product quantity: 85\n"
          ]
        }
      ]
    },
    {
      "cell_type": "code",
      "metadata": {
        "colab": {
          "base_uri": "https://localhost:8080/"
        },
        "id": "ZY-IdEHiHUrb",
        "outputId": "af39dd24-26af-48d4-cae1-6b2059b59d5e"
      },
      "source": [
        "record"
      ],
      "execution_count": null,
      "outputs": [
        {
          "output_type": "execute_result",
          "data": {
            "text/plain": [
              "{'1001': {'name': 'Sugar', 'price': 100, 'quantity': 34},\n",
              " '1002': {'name': 'Teapowder', 'price': 800, 'quantity': 100},\n",
              " '1003': {'name': 'Dal', 'price': 85, 'quantity': 100},\n",
              " '1004': {'name': 'Moog', 'price': 5, 'quantity': 1000},\n",
              " '1005': {'name': 'wheat', 'price': 20, 'quantity': 100},\n",
              " '1006': {'name': 'paddy', 'price': 50000, 'quantity': 10},\n",
              " '1007': {'name': 'Jowar', 'price': 1500, 'quantity': 110},\n",
              " '1008': {'name': 'Agarbatti', 'price': 599, 'quantity': 5},\n",
              " '1009': {'name': 'Rin soap', 'price': 18, 'quantity': 10},\n",
              " '1010': {'name': 'Powder', 'price': 133, 'quantity': 9},\n",
              " '1011': {'name': 'Pickle', 'price': 189, 'quantity': 7},\n",
              " '1012': {'name': 'Brush', 'price': 139, 'quantity': 22},\n",
              " '1013': {'name': 'Flour', 'price': 1923, 'quantity': 120},\n",
              " '1014': {'name': 'Santoor soap', 'price': 18, 'quantity': 110},\n",
              " '1015': {'name': 'Dettol soap', 'price': 169, 'quantity': 130},\n",
              " '1016': {'name': 'Neem soap', 'price': 189, 'quantity': 120},\n",
              " '1017': {'name': 'Green dal soap', 'price': 199, 'quantity': 1},\n",
              " '1018': {'name': 'Chilli powder', 'price': 10, 'quantity': 1},\n",
              " '1019': {'name': 'Lays', 'price': 88, 'quantity': 8},\n",
              " '1020': {'name': 'Kurkure', 'price': 889, 'quantity': 90},\n",
              " '1021': {'name': 'Shampoo', 'price': 1799, 'quantity': 99},\n",
              " '1022': {'name': 'Conditioner', 'price': 1679, 'quantity': 10},\n",
              " '1023': {'name': 'Lemon rice powder', 'price': 1779, 'quantity': 9},\n",
              " '1024': {'name': 'Biscuits', 'price': 1999, 'quantity': 33},\n",
              " '1025': {'name': 'Cashew nut', 'price': 134, 'quantity': 5},\n",
              " '1026': {'name': 'Badam', 'price': 132, 'quantity': 3},\n",
              " '1027': {'name': 'Pista', 'price': 134, 'quantity': 9},\n",
              " '1028': {'name': 'Pasta', 'price': 198, 'quantity': 3},\n",
              " '1029': {'name': 'Soft drinks', 'price': 197, 'quantity': 3},\n",
              " '1030': {'name': 'Chocolate pack', 'price': 199, 'quantity': 1},\n",
              " '1031': {'name': 'Milkybar', 'price': 10, 'quantity': 100},\n",
              " '1032': {'name': '5-star', 'price': 5, 'quantity': 10},\n",
              " 1033: {'name': 'Glucose', 'price': 30, 'quantity': 85}}"
            ]
          },
          "metadata": {},
          "execution_count": 8
        }
      ]
    },
    {
      "cell_type": "code",
      "metadata": {
        "colab": {
          "base_uri": "https://localhost:8080/"
        },
        "id": "ueEdOr4fIKmB",
        "outputId": "b62fbd7f-1c16-40f8-bf3c-b92e2c8b9810"
      },
      "source": [
        "# Deleting the product\n",
        "\n",
        "n = input(\"Enter Product id that you want to delete: \")\n",
        "del record[n]"
      ],
      "execution_count": null,
      "outputs": [
        {
          "name": "stdout",
          "output_type": "stream",
          "text": [
            "Enter Product id that you want to delete: 1022\n"
          ]
        }
      ]
    },
    {
      "cell_type": "code",
      "metadata": {
        "colab": {
          "base_uri": "https://localhost:8080/"
        },
        "id": "NPBfMkVAIbjz",
        "outputId": "7d20df4d-e76f-4dea-9f6d-39c39c981e4b"
      },
      "source": [
        "record"
      ],
      "execution_count": null,
      "outputs": [
        {
          "output_type": "execute_result",
          "data": {
            "text/plain": [
              "{'1001': {'name': 'Sugar', 'price': 100, 'quantity': 34},\n",
              " '1002': {'name': 'Teapowder', 'price': 800, 'quantity': 100},\n",
              " '1003': {'name': 'Dal', 'price': 85, 'quantity': 100},\n",
              " '1004': {'name': 'Moog', 'price': 5, 'quantity': 1000},\n",
              " '1005': {'name': 'wheat', 'price': 20, 'quantity': 100},\n",
              " '1006': {'name': 'paddy', 'price': 50000, 'quantity': 10},\n",
              " '1007': {'name': 'Jowar', 'price': 1500, 'quantity': 110},\n",
              " '1008': {'name': 'Agarbatti', 'price': 599, 'quantity': 5},\n",
              " '1009': {'name': 'Rin soap', 'price': 18, 'quantity': 10},\n",
              " '1010': {'name': 'Powder', 'price': 133, 'quantity': 9},\n",
              " '1011': {'name': 'Pickle', 'price': 189, 'quantity': 7},\n",
              " '1012': {'name': 'Brush', 'price': 139, 'quantity': 22},\n",
              " '1013': {'name': 'Flour', 'price': 1923, 'quantity': 120},\n",
              " '1014': {'name': 'Santoor soap', 'price': 18, 'quantity': 110},\n",
              " '1015': {'name': 'Dettol soap', 'price': 169, 'quantity': 130},\n",
              " '1016': {'name': 'Neem soap', 'price': 189, 'quantity': 120},\n",
              " '1017': {'name': 'Green dal soap', 'price': 199, 'quantity': 1},\n",
              " '1018': {'name': 'Chilli powder', 'price': 10, 'quantity': 1},\n",
              " '1019': {'name': 'Lays', 'price': 88, 'quantity': 8},\n",
              " '1020': {'name': 'Kurkure', 'price': 889, 'quantity': 90},\n",
              " '1021': {'name': 'Shampoo', 'price': 1799, 'quantity': 99},\n",
              " '1023': {'name': 'Lemon rice powder', 'price': 1779, 'quantity': 9},\n",
              " '1024': {'name': 'Biscuits', 'price': 1999, 'quantity': 33},\n",
              " '1025': {'name': 'Cashew nut', 'price': 134, 'quantity': 5},\n",
              " '1026': {'name': 'Badam', 'price': 132, 'quantity': 3},\n",
              " '1027': {'name': 'Pista', 'price': 134, 'quantity': 9},\n",
              " '1028': {'name': 'Pasta', 'price': 198, 'quantity': 3},\n",
              " '1029': {'name': 'Soft drinks', 'price': 197, 'quantity': 3},\n",
              " '1030': {'name': 'Chocolate pack', 'price': 199, 'quantity': 1},\n",
              " '1031': {'name': 'Milkybar', 'price': 10, 'quantity': 100},\n",
              " 1033: {'name': 'Glucose', 'price': 30, 'quantity': 85}}"
            ]
          },
          "metadata": {},
          "execution_count": 12
        }
      ]
    },
    {
      "cell_type": "code",
      "metadata": {
        "colab": {
          "base_uri": "https://localhost:8080/"
        },
        "id": "nsckan6hIgrU",
        "outputId": "e38c3132-bc03-4984-d27d-9309d6a7a44a"
      },
      "source": [
        "# Purchasing the Product\n",
        "\n",
        "ui_product = input(\"Enter Product id: \")\n",
        "ui_quantity = int(input(\"Enter Quantity: \"))\n",
        "print(\"Product: \", record[ui_product]['name'])\n",
        "print(\"Price: \", record[ui_product]['price'])\n",
        "print(\"Quantity ordered: \", ui_quantity)\n",
        "print(\"Billing Amount: \", record[ui_product]['price'] * ui_quantity)\n",
        "record[ui_product]['quantity'] = record[ui_product]['quantity'] - ui_quantity"
      ],
      "execution_count": null,
      "outputs": [
        {
          "output_type": "stream",
          "name": "stdout",
          "text": [
            "Enter Product id: 1019\n",
            "Enter Quantity: 2\n",
            "Product:  Lays\n",
            "Price:  88\n",
            "Quantity ordered:  2\n",
            "Billing Amount:  176\n"
          ]
        }
      ]
    },
    {
      "cell_type": "code",
      "metadata": {
        "colab": {
          "base_uri": "https://localhost:8080/"
        },
        "id": "nqtKQxlEKWgV",
        "outputId": "d57a36e5-06d0-4d42-ab65-855fd80acb4d"
      },
      "source": [
        "record"
      ],
      "execution_count": null,
      "outputs": [
        {
          "output_type": "execute_result",
          "data": {
            "text/plain": [
              "{'1001': {'name': 'Sugar', 'price': 100, 'quantity': 34},\n",
              " '1002': {'name': 'Teapowder', 'price': 800, 'quantity': 100},\n",
              " '1003': {'name': 'Dal', 'price': 85, 'quantity': 100},\n",
              " '1004': {'name': 'Moog', 'price': 5, 'quantity': 1000},\n",
              " '1005': {'name': 'wheat', 'price': 20, 'quantity': 100},\n",
              " '1006': {'name': 'paddy', 'price': 50000, 'quantity': 10},\n",
              " '1007': {'name': 'Jowar', 'price': 1500, 'quantity': 110},\n",
              " '1008': {'name': 'Agarbatti', 'price': 599, 'quantity': 5},\n",
              " '1009': {'name': 'Rin soap', 'price': 18, 'quantity': 10},\n",
              " '1010': {'name': 'Powder', 'price': 133, 'quantity': 9},\n",
              " '1011': {'name': 'Pickle', 'price': 189, 'quantity': 7},\n",
              " '1012': {'name': 'Brush', 'price': 139, 'quantity': 22},\n",
              " '1013': {'name': 'Flour', 'price': 1923, 'quantity': 120},\n",
              " '1014': {'name': 'Santoor soap', 'price': 18, 'quantity': 110},\n",
              " '1015': {'name': 'Dettol soap', 'price': 169, 'quantity': 130},\n",
              " '1016': {'name': 'Neem soap', 'price': 189, 'quantity': 120},\n",
              " '1017': {'name': 'Green dal soap', 'price': 199, 'quantity': 1},\n",
              " '1018': {'name': 'Chilli powder', 'price': 10, 'quantity': 1},\n",
              " '1019': {'name': 'Lays', 'price': 88, 'quantity': 6},\n",
              " '1020': {'name': 'Kurkure', 'price': 889, 'quantity': 90},\n",
              " '1021': {'name': 'Shampoo', 'price': 1799, 'quantity': 99},\n",
              " '1023': {'name': 'Lemon rice powder', 'price': 1779, 'quantity': 9},\n",
              " '1024': {'name': 'Biscuits', 'price': 1999, 'quantity': 33},\n",
              " '1025': {'name': 'Cashew nut', 'price': 134, 'quantity': 5},\n",
              " '1026': {'name': 'Badam', 'price': 132, 'quantity': 3},\n",
              " '1027': {'name': 'Pista', 'price': 134, 'quantity': 9},\n",
              " '1028': {'name': 'Pasta', 'price': 198, 'quantity': 3},\n",
              " '1029': {'name': 'Soft drinks', 'price': 197, 'quantity': 3},\n",
              " '1030': {'name': 'Chocolate pack', 'price': 199, 'quantity': 1},\n",
              " '1031': {'name': 'Milkybar', 'price': 10, 'quantity': 100},\n",
              " 1033: {'name': 'Glucose', 'price': 30, 'quantity': 85}}"
            ]
          },
          "metadata": {},
          "execution_count": 16
        }
      ]
    },
    {
      "cell_type": "code",
      "metadata": {
        "id": "N4rz28f8URXn"
      },
      "source": [
        "# Update inventory after purchase\n",
        "\n",
        "rs = json.dumps(record)\n",
        "fd = open(\"record.json\",\"w\")\n",
        "fd.write(rs)\n",
        "fd.close()"
      ],
      "execution_count": null,
      "outputs": []
    },
    {
      "cell_type": "code",
      "metadata": {
        "colab": {
          "base_uri": "https://localhost:8080/"
        },
        "id": "uGn2uYGbUsfa",
        "outputId": "eeed17da-1a59-48ef-d4f8-486ba9da3fd1"
      },
      "source": [
        "{ 'product': ui_product, 'quantity': ui_quantity, 'amount': record[ui_product]['price'] * ui_quantity }"
      ],
      "execution_count": null,
      "outputs": [
        {
          "output_type": "execute_result",
          "data": {
            "text/plain": [
              "{'amount': 176, 'product': '1019', 'quantity': 2}"
            ]
          },
          "metadata": {},
          "execution_count": 18
        }
      ]
    },
    {
      "cell_type": "code",
      "metadata": {
        "id": "f0H7EKK_Vs07"
      },
      "source": [
        "sales = {\n",
        "    1: { 'product': ui_product, 'quantity': ui_quantity, 'amount': record[ui_product]['price'] * ui_quantity },\n",
        "    2: { 'product': ui_product, 'quantity': ui_quantity, 'amount': record[ui_product]['price'] * ui_quantity },\n",
        "    3: { 'product': ui_product, 'quantity': ui_quantity, 'amount': record[ui_product]['price'] * ui_quantity }\n",
        "}"
      ],
      "execution_count": null,
      "outputs": []
    },
    {
      "cell_type": "code",
      "metadata": {
        "id": "RcugpSyPWhk4"
      },
      "source": [
        "sale = json.dumps(sales)"
      ],
      "execution_count": null,
      "outputs": []
    },
    {
      "cell_type": "code",
      "metadata": {
        "id": "r6ZEPXf_Wqqh"
      },
      "source": [
        "fd = open(\"sales.json\",\"w\")\n",
        "r = fd.write(sale)\n",
        "fd.close()"
      ],
      "execution_count": null,
      "outputs": []
    },
    {
      "cell_type": "code",
      "metadata": {
        "colab": {
          "base_uri": "https://localhost:8080/"
        },
        "id": "_nTlMiM5W4E8",
        "outputId": "96964ddd-3b08-4d95-8393-72cda9e7e168"
      },
      "source": [
        "{ \n",
        "  (len(sales) + 1): { 'product': ui_product, 'quantity': ui_quantity, 'amount': record[ui_product]['price'] * ui_quantity } \n",
        "}"
      ],
      "execution_count": null,
      "outputs": [
        {
          "output_type": "execute_result",
          "data": {
            "text/plain": [
              "{4: {'amount': 176, 'product': '1019', 'quantity': 2}}"
            ]
          },
          "metadata": {},
          "execution_count": 25
        }
      ]
    },
    {
      "cell_type": "code",
      "metadata": {
        "colab": {
          "base_uri": "https://localhost:8080/",
          "height": 52
        },
        "id": "jbTrgFHVaDFt",
        "outputId": "d9d62d15-d8ea-4e16-8066-acf47baa9891"
      },
      "source": [
        "sale"
      ],
      "execution_count": null,
      "outputs": [
        {
          "output_type": "execute_result",
          "data": {
            "application/vnd.google.colaboratory.intrinsic+json": {
              "type": "string"
            },
            "text/plain": [
              "'{\"1\": {\"product\": \"1019\", \"quantity\": 2, \"amount\": 176}, \"2\": {\"product\": \"1019\", \"quantity\": 2, \"amount\": 176}, \"3\": {\"product\": \"1019\", \"quantity\": 2, \"amount\": 176}}'"
            ]
          },
          "metadata": {},
          "execution_count": 26
        }
      ]
    },
    {
      "cell_type": "code",
      "metadata": {
        "colab": {
          "base_uri": "https://localhost:8080/"
        },
        "id": "nNA-ZTfTaha-",
        "outputId": "5eb2e06e-2e5f-49b2-b396-476c9a110438"
      },
      "source": [
        "sales"
      ],
      "execution_count": null,
      "outputs": [
        {
          "output_type": "execute_result",
          "data": {
            "text/plain": [
              "{1: {'amount': 176, 'product': '1019', 'quantity': 2},\n",
              " 2: {'amount': 176, 'product': '1019', 'quantity': 2},\n",
              " 3: {'amount': 176, 'product': '1019', 'quantity': 2}}"
            ]
          },
          "metadata": {},
          "execution_count": 27
        }
      ]
    }
  ]
}